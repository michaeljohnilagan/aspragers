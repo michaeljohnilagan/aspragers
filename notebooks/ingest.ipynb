{
 "cells": [
  {
   "cell_type": "code",
   "execution_count": 1,
   "id": "022b6e9d-ed41-4947-a8e2-8f0ceb323132",
   "metadata": {},
   "outputs": [],
   "source": [
    "import requests\n",
    "import xml.etree.ElementTree as ET\n",
    "import pandas as pd\n",
    "from datetime import datetime\n",
    "from tqdm.auto import tqdm"
   ]
  },
  {
   "cell_type": "markdown",
   "id": "f005e4dd-447c-403a-a5ae-cd57a141e453",
   "metadata": {},
   "source": [
    "# Get XML from Pubmed"
   ]
  },
  {
   "cell_type": "markdown",
   "id": "e9302ad1-6ec1-4986-a76a-4ec0cb4853fa",
   "metadata": {},
   "source": [
    "## Functions"
   ]
  },
  {
   "cell_type": "code",
   "execution_count": 2,
   "id": "5f8c05fa-3f08-44f9-a305-1fbb81b12bda",
   "metadata": {},
   "outputs": [],
   "source": [
    "def search_pubmed(term, num_max_results):\n",
    "    url = 'https://eutils.ncbi.nlm.nih.gov/entrez/eutils/esearch.fcgi'\n",
    "    params = {'db' : 'pubmed', \n",
    "              'term' : term, \n",
    "              'retmode' : 'xml', \n",
    "              'retmax' : num_max_results} # retmax is max results\n",
    "    response = requests.get(url, params=params)\n",
    "    return response.content"
   ]
  },
  {
   "cell_type": "code",
   "execution_count": 3,
   "id": "2e3507b5-85f5-4043-a427-e2404453d653",
   "metadata": {},
   "outputs": [],
   "source": [
    "def get_pmids_query(pubmed_response_raw):\n",
    "    root = ET.fromstring(pubmed_response_raw)\n",
    "    pmids = [id_elem.text for id_elem in root.findall(\".//Id\")]\n",
    "    return pmids"
   ]
  },
  {
   "cell_type": "code",
   "execution_count": 4,
   "id": "54f574a2-e06c-4f3f-9502-094b79900145",
   "metadata": {},
   "outputs": [],
   "source": [
    "def fetch_abstracts(pmids):\n",
    "    url = 'https://eutils.ncbi.nlm.nih.gov/entrez/eutils/efetch.fcgi'\n",
    "    string_of_ids = ','.join(pmids)\n",
    "    params = {'db' : 'pubmed', 'id' : string_of_ids, 'retmode' : 'xml', 'rettype' : 'abstract'}\n",
    "    response = requests.get(url, params=params)\n",
    "    return response.content"
   ]
  },
  {
   "cell_type": "markdown",
   "id": "682b397a-d638-4d6a-85ee-e7f063ff2d4c",
   "metadata": {},
   "source": [
    "## Work"
   ]
  },
  {
   "cell_type": "code",
   "execution_count": 5,
   "id": "5ab5bca9-0be0-43e7-a039-865997b565c1",
   "metadata": {},
   "outputs": [
    {
     "name": "stdout",
     "output_type": "stream",
     "text": [
      "asperger\n",
      "3000\n",
      "300\n"
     ]
    }
   ],
   "source": [
    "# pubmed parameters\n",
    "term = 'asperger'\n",
    "print(term)\n",
    "num_max_results = 3000\n",
    "print(num_max_results)\n",
    "batch_size = 300\n",
    "print(batch_size)"
   ]
  },
  {
   "cell_type": "code",
   "execution_count": 6,
   "id": "30f0f726-e1f4-47ea-b48a-36a008aa791c",
   "metadata": {},
   "outputs": [
    {
     "name": "stdout",
     "output_type": "stream",
     "text": [
      "2025-08-25 10:33:56.513195\n",
      "2025-08-25 10:33:57.129535\n"
     ]
    }
   ],
   "source": [
    "# get PMIDs\n",
    "print(datetime.now())\n",
    "pmids = get_pmids_query(search_pubmed(term, num_max_results))\n",
    "print(datetime.now())"
   ]
  },
  {
   "cell_type": "code",
   "execution_count": 7,
   "id": "d97a441b-e1c3-46e5-a091-7b8d2639784d",
   "metadata": {},
   "outputs": [
    {
     "name": "stdout",
     "output_type": "stream",
     "text": [
      "2025-08-25 10:33:57.135732\n"
     ]
    },
    {
     "data": {
      "application/vnd.jupyter.widget-view+json": {
       "model_id": "5aa60a6f94534c789865b6333a313042",
       "version_major": 2,
       "version_minor": 0
      },
      "text/plain": [
       "  0%|          | 0/10 [00:00<?, ?it/s]"
      ]
     },
     "metadata": {},
     "output_type": "display_data"
    },
    {
     "name": "stdout",
     "output_type": "stream",
     "text": [
      "2025-08-25 10:34:15.445318\n"
     ]
    }
   ],
   "source": [
    "# in batches, get abstract XML\n",
    "print(datetime.now())\n",
    "pmids_batches = [pmids[i:i+batch_size] for i in range(0, len(pmids), batch_size)]\n",
    "xml_raw_batches = [fetch_abstracts(batch) for batch in tqdm(pmids_batches)]\n",
    "xml_parsed_batches = [ET.fromstring(batch) for batch in xml_raw_batches]\n",
    "print(datetime.now())"
   ]
  },
  {
   "cell_type": "markdown",
   "id": "dc5aaf15-14ce-4a66-b2a7-b9775201daca",
   "metadata": {},
   "source": [
    "# Parse XML in batches"
   ]
  },
  {
   "cell_type": "markdown",
   "id": "df3a35a3-4529-4640-bb84-d7f35971286c",
   "metadata": {},
   "source": [
    "## Functions"
   ]
  },
  {
   "cell_type": "code",
   "execution_count": 8,
   "id": "d1a94f42-fb8a-47f3-8c7d-75eda602ac85",
   "metadata": {},
   "outputs": [],
   "source": [
    "def get_pmids(xml_parsed):\n",
    "    pmids = []\n",
    "    for item in xml_parsed:\n",
    "        try:\n",
    "            pmid = item.find(\".//PMID\").text\n",
    "        except:\n",
    "            pmid = ''\n",
    "        pmids.append(pmid)\n",
    "    return pmids"
   ]
  },
  {
   "cell_type": "code",
   "execution_count": 9,
   "id": "609e1882-63f0-4bfb-8d72-afc2b9684fc4",
   "metadata": {},
   "outputs": [],
   "source": [
    "def get_elocationids(xml_parsed):\n",
    "    elocationids = []\n",
    "    for item in xml_parsed:\n",
    "        try:\n",
    "            elocationid_text = item.find(\".//Article\").find(\".//ELocationID\").text\n",
    "            elocationid_type = item.find(\".//Article\").find(\".//ELocationID\").attrib.get('EIdType')\n",
    "            elocationid_full = elocationid_type+': '+elocationid_text\n",
    "        except:\n",
    "            elocationid_full = ''\n",
    "        elocationids.append(elocationid_full)\n",
    "    return elocationids"
   ]
  },
  {
   "cell_type": "code",
   "execution_count": 10,
   "id": "f4598ad9-1e47-4c29-a48b-da3ce28414c7",
   "metadata": {},
   "outputs": [],
   "source": [
    "def get_titles(xml_parsed):\n",
    "    titles = []\n",
    "    for item in xml_parsed:\n",
    "        try:\n",
    "            title = item.find(\".//Article\").find(\".//ArticleTitle\").text\n",
    "        except:\n",
    "            title = ''\n",
    "        titles.append(title)\n",
    "    return titles"
   ]
  },
  {
   "cell_type": "code",
   "execution_count": 11,
   "id": "501aa749-f577-43c4-948a-32588c05a5b0",
   "metadata": {},
   "outputs": [],
   "source": [
    "def get_journals(xml_parsed):\n",
    "    journals = []\n",
    "    for item in xml_parsed:\n",
    "        try:\n",
    "            journal = item.find(\".//Article\").find(\".//Journal\").find(\".//Title\").text\n",
    "        except:\n",
    "            journal = ''\n",
    "        journals.append(journal)\n",
    "    return journals"
   ]
  },
  {
   "cell_type": "code",
   "execution_count": 12,
   "id": "1f0ced4c-946d-4846-be67-e84378bd510b",
   "metadata": {},
   "outputs": [],
   "source": [
    "def get_years(xml_parsed):\n",
    "    years = []\n",
    "    for item in xml_parsed:\n",
    "        try:\n",
    "            year = item.find(\".//Article\").find(\".//Journal\").find(\".//JournalIssue\").find(\".//PubDate\").find(\".//Year\").text\n",
    "        except:\n",
    "            year = ''\n",
    "        years.append(year)\n",
    "    return years"
   ]
  },
  {
   "cell_type": "code",
   "execution_count": 13,
   "id": "d3d2ea88-51aa-4908-8074-ad99ed08f1db",
   "metadata": {},
   "outputs": [],
   "source": [
    "def get_authors(xml_parsed):\n",
    "    authors = []\n",
    "    for item in xml_parsed:\n",
    "        try:\n",
    "            auth_list = item.find(\".//Article\").find(\".//AuthorList\").findall(\".//Author\")\n",
    "            name_list = [author.find(\".//ForeName\").text+' '+author.find(\".//LastName\").text for author in auth_list]\n",
    "            authors.append(', '.join(name_list))\n",
    "        except:\n",
    "            authors.append('')\n",
    "    return authors"
   ]
  },
  {
   "cell_type": "code",
   "execution_count": 14,
   "id": "e467c079-32be-4aa9-b32f-f4e1d351ce76",
   "metadata": {},
   "outputs": [],
   "source": [
    "def get_affiliations(xml_parsed):\n",
    "    affiliations = []\n",
    "    for item in xml_parsed:\n",
    "        try:\n",
    "            auth_list = item.find(\".//Article\").find(\".//AuthorList\").findall(\".//Author\")\n",
    "            affiliation_list = [author.find(\".//AffiliationInfo\").find(\".//Affiliation\").text for author in auth_list]\n",
    "            affiliations.append(' '.join(list(set(affiliation_list))))\n",
    "        except:\n",
    "            affiliations.append('')\n",
    "    return affiliations"
   ]
  },
  {
   "cell_type": "code",
   "execution_count": 15,
   "id": "5eebe96d-4e9e-4847-92cf-aefe143a84b8",
   "metadata": {},
   "outputs": [],
   "source": [
    "def get_abstracts(xml_parsed):\n",
    "    abstracts = []\n",
    "    for item in xml_parsed:\n",
    "        try:\n",
    "            abstract = item.find(\".//Article\").find(\".//Abstract\").find(\".//AbstractText\").text\n",
    "        except:\n",
    "            abstract = ''\n",
    "        abstracts.append(abstract)\n",
    "    return abstracts"
   ]
  },
  {
   "cell_type": "markdown",
   "id": "28974376-b92d-489c-9160-cb807479eca1",
   "metadata": {},
   "source": [
    "## Work"
   ]
  },
  {
   "cell_type": "code",
   "execution_count": 16,
   "id": "22511d15-7f0d-499d-bfcd-a3bd90ee7fe4",
   "metadata": {},
   "outputs": [],
   "source": [
    "# loop over batches, then loop over fields\n",
    "column_name_to_getter = {'pmid' : get_pmids, 'elocationid' : get_elocationids, \n",
    "                        'title' : get_titles, 'journal' : get_journals, 'year' : get_years, \n",
    "                        'author' : get_authors, 'affiliation' : get_affiliations, \n",
    "                        'abstract' : get_abstracts}\n",
    "df_batches = [pd.DataFrame({column_name : getter(batch) \\\n",
    "for (column_name, getter) in column_name_to_getter.items()}) \\\n",
    "for batch in xml_parsed_batches]"
   ]
  },
  {
   "cell_type": "markdown",
   "id": "4e2617f0-2975-4335-95e6-5e3adcf24a79",
   "metadata": {},
   "source": [
    "# CSV file"
   ]
  },
  {
   "cell_type": "code",
   "execution_count": 17,
   "id": "cbbfbd1b-0e2c-4a86-bae9-096c3e99d7e9",
   "metadata": {},
   "outputs": [
    {
     "data": {
      "text/html": [
       "<div>\n",
       "<style scoped>\n",
       "    .dataframe tbody tr th:only-of-type {\n",
       "        vertical-align: middle;\n",
       "    }\n",
       "\n",
       "    .dataframe tbody tr th {\n",
       "        vertical-align: top;\n",
       "    }\n",
       "\n",
       "    .dataframe thead th {\n",
       "        text-align: right;\n",
       "    }\n",
       "</style>\n",
       "<table border=\"1\" class=\"dataframe\">\n",
       "  <thead>\n",
       "    <tr style=\"text-align: right;\">\n",
       "      <th></th>\n",
       "      <th>pmid</th>\n",
       "      <th>elocationid</th>\n",
       "      <th>title</th>\n",
       "      <th>journal</th>\n",
       "      <th>year</th>\n",
       "      <th>author</th>\n",
       "      <th>affiliation</th>\n",
       "      <th>abstract</th>\n",
       "    </tr>\n",
       "  </thead>\n",
       "  <tbody>\n",
       "    <tr>\n",
       "      <th>0</th>\n",
       "      <td>40770710</td>\n",
       "      <td>pii: 769</td>\n",
       "      <td>The dynamic trajectory of autistic life and it...</td>\n",
       "      <td>BMC psychiatry</td>\n",
       "      <td>2025</td>\n",
       "      <td>Leshata Winter Mokhwelepa, Gsakani Olivia Sumb...</td>\n",
       "      <td>School of Medicine, Faculty of Health Science,...</td>\n",
       "      <td>There is a noticeable knowledge vacuum on the ...</td>\n",
       "    </tr>\n",
       "    <tr>\n",
       "      <th>1</th>\n",
       "      <td>40690320</td>\n",
       "      <td></td>\n",
       "      <td>[Quantitative analysis of autism online forums].</td>\n",
       "      <td>Psychiatria Hungarica : A Magyar Pszichiatriai...</td>\n",
       "      <td>2025</td>\n",
       "      <td>Brigitta Kakuszi, Szilvia Hetesy, Pál Czobor</td>\n",
       "      <td></td>\n",
       "      <td>Social media platforms are becoming increasing...</td>\n",
       "    </tr>\n",
       "    <tr>\n",
       "      <th>2</th>\n",
       "      <td>40637642</td>\n",
       "      <td>doi: 10.5152/TurkArchPediatr.2025.25127</td>\n",
       "      <td>The Work of Grunya Efimovna Sukhareva in the F...</td>\n",
       "      <td>Turkish archives of pediatrics</td>\n",
       "      <td>2025</td>\n",
       "      <td>Annio Posar, Paola Visconti</td>\n",
       "      <td>IRCCS Istituto delle Scienze Neurologiche di B...</td>\n",
       "      <td>Despite several articles that in recent years ...</td>\n",
       "    </tr>\n",
       "    <tr>\n",
       "      <th>3</th>\n",
       "      <td>40597832</td>\n",
       "      <td>pii: 484</td>\n",
       "      <td>Autism spectrum disorders and childhood caries...</td>\n",
       "      <td>BMC pediatrics</td>\n",
       "      <td>2025</td>\n",
       "      <td>Qiufang Jin, Zexiu He, Dongfang Xu, Ruihua Lin...</td>\n",
       "      <td>Department of Otolaryngology, The Second Hospi...</td>\n",
       "      <td>This study aimed to investigate the causal rel...</td>\n",
       "    </tr>\n",
       "    <tr>\n",
       "      <th>4</th>\n",
       "      <td>40527486</td>\n",
       "      <td>pii: S0021-7557(25)00099-3</td>\n",
       "      <td>Psychometric characteristics of the Mini-TEA s...</td>\n",
       "      <td>Jornal de pediatria</td>\n",
       "      <td>2025</td>\n",
       "      <td>Cassiano Mateus Forcelini, Regina Ampese, Hele...</td>\n",
       "      <td>Associação de Pais e Amigos dos Excepcionais (...</td>\n",
       "      <td>Early diagnosis of autism spectrum disorder (A...</td>\n",
       "    </tr>\n",
       "    <tr>\n",
       "      <th>...</th>\n",
       "      <td>...</td>\n",
       "      <td>...</td>\n",
       "      <td>...</td>\n",
       "      <td>...</td>\n",
       "      <td>...</td>\n",
       "      <td>...</td>\n",
       "      <td>...</td>\n",
       "      <td>...</td>\n",
       "    </tr>\n",
       "    <tr>\n",
       "      <th>295</th>\n",
       "      <td>7866673</td>\n",
       "      <td></td>\n",
       "      <td>Linguistics, human communication and psychiatry.</td>\n",
       "      <td>The British journal of psychiatry : the journa...</td>\n",
       "      <td>1994</td>\n",
       "      <td>P Thomas, W Fraser</td>\n",
       "      <td></td>\n",
       "      <td>Psycholinguistics and sociolinguistics have ex...</td>\n",
       "    </tr>\n",
       "    <tr>\n",
       "      <th>296</th>\n",
       "      <td>7794327</td>\n",
       "      <td></td>\n",
       "      <td>Prevalence of Asperger's syndrome in a secure ...</td>\n",
       "      <td>The British journal of psychiatry : the journa...</td>\n",
       "      <td>1994</td>\n",
       "      <td>P Scragg, A Shah</td>\n",
       "      <td></td>\n",
       "      <td>The hypothesis that Asperger's syndrome (AS) m...</td>\n",
       "    </tr>\n",
       "    <tr>\n",
       "      <th>297</th>\n",
       "      <td>29871460</td>\n",
       "      <td>doi: 10.1007/BF01978114</td>\n",
       "      <td>A preliminary study of right hemisphere cognit...</td>\n",
       "      <td>European child &amp; adolescent psychiatry</td>\n",
       "      <td>1994</td>\n",
       "      <td>Hadyn D Ellis, Diane M Ellis, William Fraser, ...</td>\n",
       "      <td>Department of Psychological Medicine, Universi...</td>\n",
       "      <td>Seven children and young adults with definite ...</td>\n",
       "    </tr>\n",
       "    <tr>\n",
       "      <th>298</th>\n",
       "      <td>7926319</td>\n",
       "      <td></td>\n",
       "      <td>Developmental prosopagnosia in Asperger syndro...</td>\n",
       "      <td>Developmental medicine and child neurology</td>\n",
       "      <td>1994</td>\n",
       "      <td>I Kracke</td>\n",
       "      <td>Department of Psychology, Hollymoor Hospital, ...</td>\n",
       "      <td>The case of a young man is presented who initi...</td>\n",
       "    </tr>\n",
       "    <tr>\n",
       "      <th>299</th>\n",
       "      <td>7841689</td>\n",
       "      <td></td>\n",
       "      <td>Is clumsiness a marker for Asperger syndrome?</td>\n",
       "      <td>Journal of intellectual disability research : ...</td>\n",
       "      <td>1994</td>\n",
       "      <td>M Ghaziuddin, E Butler, L Tsai, N Ghaziuddin</td>\n",
       "      <td></td>\n",
       "      <td>Although Asperger syndrome (AS) has been inclu...</td>\n",
       "    </tr>\n",
       "  </tbody>\n",
       "</table>\n",
       "<p>3000 rows × 8 columns</p>\n",
       "</div>"
      ],
      "text/plain": [
       "         pmid                              elocationid  \\\n",
       "0    40770710                                 pii: 769   \n",
       "1    40690320                                            \n",
       "2    40637642  doi: 10.5152/TurkArchPediatr.2025.25127   \n",
       "3    40597832                                 pii: 484   \n",
       "4    40527486               pii: S0021-7557(25)00099-3   \n",
       "..        ...                                      ...   \n",
       "295   7866673                                            \n",
       "296   7794327                                            \n",
       "297  29871460                  doi: 10.1007/BF01978114   \n",
       "298   7926319                                            \n",
       "299   7841689                                            \n",
       "\n",
       "                                                 title  \\\n",
       "0    The dynamic trajectory of autistic life and it...   \n",
       "1     [Quantitative analysis of autism online forums].   \n",
       "2    The Work of Grunya Efimovna Sukhareva in the F...   \n",
       "3    Autism spectrum disorders and childhood caries...   \n",
       "4    Psychometric characteristics of the Mini-TEA s...   \n",
       "..                                                 ...   \n",
       "295   Linguistics, human communication and psychiatry.   \n",
       "296  Prevalence of Asperger's syndrome in a secure ...   \n",
       "297  A preliminary study of right hemisphere cognit...   \n",
       "298  Developmental prosopagnosia in Asperger syndro...   \n",
       "299      Is clumsiness a marker for Asperger syndrome?   \n",
       "\n",
       "                                               journal  year  \\\n",
       "0                                       BMC psychiatry  2025   \n",
       "1    Psychiatria Hungarica : A Magyar Pszichiatriai...  2025   \n",
       "2                       Turkish archives of pediatrics  2025   \n",
       "3                                       BMC pediatrics  2025   \n",
       "4                                  Jornal de pediatria  2025   \n",
       "..                                                 ...   ...   \n",
       "295  The British journal of psychiatry : the journa...  1994   \n",
       "296  The British journal of psychiatry : the journa...  1994   \n",
       "297             European child & adolescent psychiatry  1994   \n",
       "298         Developmental medicine and child neurology  1994   \n",
       "299  Journal of intellectual disability research : ...  1994   \n",
       "\n",
       "                                                author  \\\n",
       "0    Leshata Winter Mokhwelepa, Gsakani Olivia Sumb...   \n",
       "1         Brigitta Kakuszi, Szilvia Hetesy, Pál Czobor   \n",
       "2                          Annio Posar, Paola Visconti   \n",
       "3    Qiufang Jin, Zexiu He, Dongfang Xu, Ruihua Lin...   \n",
       "4    Cassiano Mateus Forcelini, Regina Ampese, Hele...   \n",
       "..                                                 ...   \n",
       "295                                 P Thomas, W Fraser   \n",
       "296                                   P Scragg, A Shah   \n",
       "297  Hadyn D Ellis, Diane M Ellis, William Fraser, ...   \n",
       "298                                           I Kracke   \n",
       "299       M Ghaziuddin, E Butler, L Tsai, N Ghaziuddin   \n",
       "\n",
       "                                           affiliation  \\\n",
       "0    School of Medicine, Faculty of Health Science,...   \n",
       "1                                                        \n",
       "2    IRCCS Istituto delle Scienze Neurologiche di B...   \n",
       "3    Department of Otolaryngology, The Second Hospi...   \n",
       "4    Associação de Pais e Amigos dos Excepcionais (...   \n",
       "..                                                 ...   \n",
       "295                                                      \n",
       "296                                                      \n",
       "297  Department of Psychological Medicine, Universi...   \n",
       "298  Department of Psychology, Hollymoor Hospital, ...   \n",
       "299                                                      \n",
       "\n",
       "                                              abstract  \n",
       "0    There is a noticeable knowledge vacuum on the ...  \n",
       "1    Social media platforms are becoming increasing...  \n",
       "2    Despite several articles that in recent years ...  \n",
       "3    This study aimed to investigate the causal rel...  \n",
       "4    Early diagnosis of autism spectrum disorder (A...  \n",
       "..                                                 ...  \n",
       "295  Psycholinguistics and sociolinguistics have ex...  \n",
       "296  The hypothesis that Asperger's syndrome (AS) m...  \n",
       "297  Seven children and young adults with definite ...  \n",
       "298  The case of a young man is presented who initi...  \n",
       "299  Although Asperger syndrome (AS) has been inclu...  \n",
       "\n",
       "[3000 rows x 8 columns]"
      ]
     },
     "execution_count": 17,
     "metadata": {},
     "output_type": "execute_result"
    }
   ],
   "source": [
    "# final dataframe\n",
    "df = pd.concat(df_batches)\n",
    "df"
   ]
  },
  {
   "cell_type": "code",
   "execution_count": 18,
   "id": "6c2ec4e5-3bd5-43dd-b877-4489b2c5bb90",
   "metadata": {},
   "outputs": [],
   "source": [
    "# write CSV file\n",
    "df.to_csv('../data/data-kb.csv', sep='\\t', index=False) # use tab as separator"
   ]
  },
  {
   "cell_type": "code",
   "execution_count": 19,
   "id": "db03ca98-4cc8-4b5c-ba89-64daf018ba35",
   "metadata": {},
   "outputs": [
    {
     "name": "stdout",
     "output_type": "stream",
     "text": [
      "2025-08-25 10:34:15.674774\n"
     ]
    }
   ],
   "source": [
    "print(datetime.now())"
   ]
  }
 ],
 "metadata": {
  "kernelspec": {
   "display_name": "Python 3 (ipykernel)",
   "language": "python",
   "name": "python3"
  },
  "language_info": {
   "codemirror_mode": {
    "name": "ipython",
    "version": 3
   },
   "file_extension": ".py",
   "mimetype": "text/x-python",
   "name": "python",
   "nbconvert_exporter": "python",
   "pygments_lexer": "ipython3",
   "version": "3.10.12"
  }
 },
 "nbformat": 4,
 "nbformat_minor": 5
}
